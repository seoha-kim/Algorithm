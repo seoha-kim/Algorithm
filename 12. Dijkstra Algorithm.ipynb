{
 "cells": [
  {
   "cell_type": "code",
   "execution_count": 3,
   "metadata": {},
   "outputs": [],
   "source": [
    "mygraph = {\n",
    "    'A': {'B': 8, 'C': 1, 'D': 2},\n",
    "    'B': {},\n",
    "    'C': {'B': 5, 'D': 2},\n",
    "    'D': {'E': 3, 'F': 5},\n",
    "    'E': {'F': 1},\n",
    "    'F': {'A': 5}\n",
    "}"
   ]
  },
  {
   "cell_type": "code",
   "execution_count": 4,
   "metadata": {},
   "outputs": [],
   "source": [
    "import heapq\n",
    "\n",
    "def dijkstra(graph, start):\n",
    "    \n",
    "    distances = {node: float('inf') for node in graph}\n",
    "    distances[start] = 0\n",
    "    queue = []\n",
    "    heapq.heappush(queue, [distances[start], start])\n",
    "    \n",
    "    while queue:\n",
    "        current_distance, current_node = heapq.heappop(queue)\n",
    "        \n",
    "        if distances[current_node] < current_distance:\n",
    "            continue\n",
    "            \n",
    "        for adjacent, weight in graph[current_node].items():\n",
    "            distance = current_distance + weight\n",
    "            \n",
    "            if distance < distances[adjacent]:\n",
    "                distances[adjacent] = distance\n",
    "                heapq.heappush(queue, [distance, adjacent])\n",
    "                \n",
    "    return distances"
   ]
  },
  {
   "cell_type": "markdown",
   "metadata": {},
   "source": [
    "<img src=\"https://www.fun-coding.org/00_Images/dijkstra.png\" width=300>"
   ]
  },
  {
   "cell_type": "code",
   "execution_count": 5,
   "metadata": {},
   "outputs": [
    {
     "data": {
      "text/plain": [
       "{'A': 0, 'B': 6, 'C': 1, 'D': 2, 'E': 5, 'F': 6}"
      ]
     },
     "execution_count": 5,
     "metadata": {},
     "output_type": "execute_result"
    }
   ],
   "source": [
    "dijkstra(mygraph, 'A')"
   ]
  },
  {
   "cell_type": "code",
   "execution_count": 6,
   "metadata": {},
   "outputs": [
    {
     "name": "stdout",
     "output_type": "stream",
     "text": [
      "F->E->D->A\n",
      "{'A': [0, 'A'], 'B': [6, 'C'], 'C': [1, 'A'], 'D': [2, 'A'], 'E': [5, 'D'], 'F': [6, 'E']}\n"
     ]
    }
   ],
   "source": [
    "\"\"\"\n",
    "참고: 최단 경로 출력\n",
    "탐색할 그래프의 시작 정점과 다른 정점들간의 최단 거리 및 최단 경로 출력하기\n",
    "\"\"\"\n",
    "import heapq\n",
    "\n",
    "# 탐색할 그래프와 시작 정점을 인수로 전달받습니다.\n",
    "def dijkstra(graph, start, end):\n",
    "    # 시작 정점에서 각 정점까지의 거리를 저장할 딕셔너리를 생성하고, 무한대(inf)로 초기화합니다.\n",
    "    distances = {vertex: [float('inf'), start] for vertex in graph}\n",
    "\n",
    "    # 그래프의 시작 정점의 거리는 0으로 초기화 해줌\n",
    "    distances[start] = [0, start]\n",
    "\n",
    "    # 모든 정점이 저장될 큐를 생성합니다.\n",
    "    queue = []\n",
    "\n",
    "    # 그래프의 시작 정점과 시작 정점의 거리(0)을 최소힙에 넣어줌\n",
    "    heapq.heappush(queue, [distances[start][0], start])\n",
    "\n",
    "    while queue:\n",
    "        \n",
    "        # 큐에서 정점을 하나씩 꺼내 인접한 정점들의 가중치를 모두 확인하여 업데이트합니다.\n",
    "        current_distance, current_vertex = heapq.heappop(queue)\n",
    "        \n",
    "        # 더 짧은 경로가 있다면 무시한다.\n",
    "        if distances[current_vertex][0] < current_distance:\n",
    "            continue\n",
    "            \n",
    "        for adjacent, weight in graph[current_vertex].items():\n",
    "            distance = current_distance + weight\n",
    "            # 만약 시작 정점에서 인접 정점으로 바로 가는 것보다 현재 정점을 통해 가는 것이 더 가까울 경우에는\n",
    "            if distance < distances[adjacent][0]:\n",
    "                # 거리를 업데이트합니다.\n",
    "                distances[adjacent] = [distance, current_vertex]\n",
    "                heapq.heappush(queue, [distance, adjacent])\n",
    "    \n",
    "    path = end\n",
    "    path_output = end + '->'\n",
    "    while distances[path][1] != start:\n",
    "        path_output += distances[path][1] + '->'\n",
    "        path = distances[path][1]\n",
    "    path_output += start\n",
    "    print (path_output)\n",
    "    return distances\n",
    "\n",
    "# 방향 그래프\n",
    "mygraph = {\n",
    "    'A': {'B': 8, 'C': 1, 'D': 2},\n",
    "    'B': {},\n",
    "    'C': {'B': 5, 'D': 2},\n",
    "    'D': {'E': 3, 'F': 5},\n",
    "    'E': {'F': 1},\n",
    "    'F': {'A': 5}\n",
    "}\n",
    "\n",
    "print(dijkstra(mygraph, 'A', 'F'))"
   ]
  }
 ],
 "metadata": {
  "kernelspec": {
   "display_name": "Python 3",
   "language": "python",
   "name": "python3"
  },
  "language_info": {
   "codemirror_mode": {
    "name": "ipython",
    "version": 3
   },
   "file_extension": ".py",
   "mimetype": "text/x-python",
   "name": "python",
   "nbconvert_exporter": "python",
   "pygments_lexer": "ipython3",
   "version": "3.7.8"
  },
  "nbTranslate": {
   "displayLangs": [
    "*"
   ],
   "hotkey": "alt-t",
   "langInMainMenu": true,
   "sourceLang": "en",
   "targetLang": "fr",
   "useGoogleTranslate": true
  }
 },
 "nbformat": 4,
 "nbformat_minor": 1
}
