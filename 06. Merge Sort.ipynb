{
 "cells": [
  {
   "cell_type": "code",
   "execution_count": 5,
   "metadata": {},
   "outputs": [],
   "source": [
    "def merge(left, right):\n",
    "    merged = list()\n",
    "    left_point, right_point = 0, 0\n",
    "    \n",
    "    # case1 - left/right 둘다 있을때\n",
    "    while len(left) > left_point and len(right) > right_point:\n",
    "        if left[left_point] > right[right_point]:\n",
    "            merged.append(right[right_point])\n",
    "            right_point += 1\n",
    "        else:\n",
    "            merged.append(left[left_point])\n",
    "            left_point += 1\n",
    "\n",
    "    # case2 - left 데이터가 없을 때\n",
    "    while len(left) > left_point:\n",
    "        merged.append(left[left_point])\n",
    "        left_point += 1\n",
    "        \n",
    "    # case3 - right 데이터가 없을 때\n",
    "    while len(right) > right_point:\n",
    "        merged.append(right[right_point])\n",
    "        right_point += 1\n",
    "    \n",
    "    return merged\n",
    "\n",
    "\n",
    "def mergesplit(data):\n",
    "    if len(data) <= 1:\n",
    "        return data\n",
    "    medium = int(len(data) / 2)\n",
    "    left = mergesplit(data[:medium])\n",
    "    right = mergesplit(data[medium:])\n",
    "    return merge(left, right)"
   ]
  },
  {
   "cell_type": "code",
   "execution_count": 6,
   "metadata": {},
   "outputs": [
    {
     "data": {
      "text/plain": [
       "[12, 14, 35, 39, 43, 49, 61, 62, 86, 91]"
      ]
     },
     "execution_count": 6,
     "metadata": {},
     "output_type": "execute_result"
    }
   ],
   "source": [
    "import random\n",
    "\n",
    "data_list = random.sample(range(100), 10)\n",
    "mergesplit(data_list)"
   ]
  }
 ],
 "metadata": {
  "kernelspec": {
   "display_name": "Python 3",
   "language": "python",
   "name": "python3"
  },
  "language_info": {
   "codemirror_mode": {
    "name": "ipython",
    "version": 3
   },
   "file_extension": ".py",
   "mimetype": "text/x-python",
   "name": "python",
   "nbconvert_exporter": "python",
   "pygments_lexer": "ipython3",
   "version": "3.7.8"
  },
  "nbTranslate": {
   "displayLangs": [
    "*"
   ],
   "hotkey": "alt-t",
   "langInMainMenu": true,
   "sourceLang": "en",
   "targetLang": "fr",
   "useGoogleTranslate": true
  }
 },
 "nbformat": 4,
 "nbformat_minor": 1
}
