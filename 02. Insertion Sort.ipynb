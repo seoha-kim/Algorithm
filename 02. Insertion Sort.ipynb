{
 "cells": [
  {
   "cell_type": "code",
   "execution_count": 1,
   "metadata": {},
   "outputs": [],
   "source": [
    "def insertion_sort(data):\n",
    "    for index in range(len(data)-1):\n",
    "        for index2 in range(index+1, 0, -1):\n",
    "            if data[index2] < data[index2-1]:\n",
    "                data[index2], data[index2-1] = data[index2-1], data[index2]\n",
    "            else:\n",
    "                break\n",
    "    return data"
   ]
  },
  {
   "cell_type": "code",
   "execution_count": 3,
   "metadata": {},
   "outputs": [
    {
     "name": "stdout",
     "output_type": "stream",
     "text": [
      "[65, 89, 32, 8, 27, 4, 56, 13, 34, 83, 19, 75, 90, 31, 68, 51, 55, 24, 98, 84, 17, 64, 35, 71, 1, 99, 53, 43, 25, 52, 59, 11, 63, 36, 38, 45, 87, 67, 7, 23, 44, 29, 85, 26, 61, 20, 5, 33, 78, 91]\n",
      "[1, 4, 5, 7, 8, 11, 13, 17, 19, 20, 23, 24, 25, 26, 27, 29, 31, 32, 33, 34, 35, 36, 38, 43, 44, 45, 51, 52, 53, 55, 56, 59, 61, 63, 64, 65, 67, 68, 71, 75, 78, 83, 84, 85, 87, 89, 90, 91, 98, 99]\n"
     ]
    }
   ],
   "source": [
    "import random\n",
    "\n",
    "data_list = random.sample(range(100), 50)\n",
    "print(data_list)\n",
    "print(insertion_sort(data_list))"
   ]
  }
 ],
 "metadata": {
  "kernelspec": {
   "display_name": "Python 3",
   "language": "python",
   "name": "python3"
  },
  "language_info": {
   "codemirror_mode": {
    "name": "ipython",
    "version": 3
   },
   "file_extension": ".py",
   "mimetype": "text/x-python",
   "name": "python",
   "nbconvert_exporter": "python",
   "pygments_lexer": "ipython3",
   "version": "3.7.8"
  },
  "nbTranslate": {
   "displayLangs": [
    "*"
   ],
   "hotkey": "alt-t",
   "langInMainMenu": true,
   "sourceLang": "en",
   "targetLang": "fr",
   "useGoogleTranslate": true
  }
 },
 "nbformat": 4,
 "nbformat_minor": 1
}
